{
 "cells": [
  {
   "cell_type": "code",
   "execution_count": 3,
   "metadata": {},
   "outputs": [],
   "source": [
    "import sys\n",
    "sys.path.append('../..')\n",
    "import pandas as pd\n",
    "import src.cleaning as clean\n",
    "import seaborn as sns\n",
    "import src.analysis.utils as utils\n",
    "import numpy as np"
   ]
  },
  {
   "cell_type": "code",
   "execution_count": 4,
   "metadata": {},
   "outputs": [
    {
     "name": "stderr",
     "output_type": "stream",
     "text": [
      "C:\\Users\\C\\AppData\\Local\\Temp\\ipykernel_18448\\1800904834.py:1: DtypeWarning: Columns (1) have mixed types. Specify dtype option on import or set low_memory=False.\n",
      "  sales_data = pd.read_csv('../../data/anon_data.csv')\n"
     ]
    }
   ],
   "source": [
    "sales_data = pd.read_csv('../../data/anon_data.csv')\n",
    "cleaned_data = clean.clean_data(sales_data)"
   ]
  },
  {
   "cell_type": "code",
   "execution_count": 5,
   "metadata": {},
   "outputs": [],
   "source": [
    "#Restrict to only orders being sent not returned - being quantity > 0 \n",
    "positive_quantity = cleaned_data.loc[cleaned_data['quantity']>0, :]"
   ]
  },
  {
   "cell_type": "code",
   "execution_count": 6,
   "metadata": {},
   "outputs": [],
   "source": [
    "customer_shipped_dates = positive_quantity.groupby('customer_id')['ship_date'].unique()"
   ]
  },
  {
   "cell_type": "code",
   "execution_count": 9,
   "metadata": {},
   "outputs": [
    {
     "data": {
      "text/plain": [
       "customer_id\n",
       "100000003                                  [512, 6, 20, 8, 61]\n",
       "100000005                                          [547, 1, 1]\n",
       "100000015                                        [82, 372, 19]\n",
       "100000029                                                 None\n",
       "100000034    [1, 5, 2, 5, 11, 10, 6, 124, 7, 19, 13, 2, 39,...\n",
       "                                   ...                        \n",
       "100024529                                                  [3]\n",
       "100024593                                                 None\n",
       "100024597                                                  [4]\n",
       "100024613                                                 None\n",
       "100024630                                                 None\n",
       "Name: ship_date, Length: 3288, dtype: object"
      ]
     },
     "execution_count": 9,
     "metadata": {},
     "output_type": "execute_result"
    }
   ],
   "source": [
    "customer_shipped_days_between = customer_shipped_dates.apply(utils.calculate_days_between)\n",
    "customer_shipped_days_between"
   ]
  },
  {
   "cell_type": "code",
   "execution_count": 10,
   "metadata": {},
   "outputs": [
    {
     "data": {
      "text/plain": [
       "86198"
      ]
     },
     "execution_count": 10,
     "metadata": {},
     "output_type": "execute_result"
    }
   ],
   "source": [
    "customer_shipped_dates.apply(len).sum()"
   ]
  },
  {
   "cell_type": "code",
   "execution_count": 6,
   "metadata": {},
   "outputs": [
    {
     "data": {
      "text/plain": [
       "(60,)"
      ]
     },
     "execution_count": 6,
     "metadata": {},
     "output_type": "execute_result"
    }
   ],
   "source": [
    "average_customer_shipping_times = customer_shipped_days_between.dropna().apply(np.mean).sort_values()\n",
    "average_customer_shipping_times[(average_customer_shipping_times > 0) & (average_customer_shipping_times <= 2)].shape"
   ]
  },
  {
   "cell_type": "code",
   "execution_count": 16,
   "metadata": {},
   "outputs": [
    {
     "data": {
      "text/plain": [
       "20036"
      ]
     },
     "execution_count": 16,
     "metadata": {},
     "output_type": "execute_result"
    }
   ],
   "source": [
    "shipping_difference_equal_1 = customer_shipped_days_between.apply(lambda row: utils.calculate_result_of_waiting(row, max_days_to_wait=1))\n",
    "shipping_difference_equal_1.sum()"
   ]
  },
  {
   "cell_type": "code",
   "execution_count": 15,
   "metadata": {},
   "outputs": [
    {
     "data": {
      "text/plain": [
       "True"
      ]
     },
     "execution_count": 15,
     "metadata": {},
     "output_type": "execute_result"
    }
   ],
   "source": [
    "# CHECKING\n",
    "# If there is one shipment per customer as we wait for all their orders, this should be equal to number of customers\n",
    "# Number of shipments - Number to subtract if we wait for all orders == Number of customers\n",
    "customer_shipped_dates.apply(len).sum() - customer_shipped_days_between.apply(lambda row: utils.calculate_result_of_waiting(row, max_days_to_wait=12000)).sum() == positive_quantity['customer_id'].unique().shape[0]"
   ]
  },
  {
   "cell_type": "code",
   "execution_count": 19,
   "metadata": {},
   "outputs": [
    {
     "data": {
      "text/plain": [
       "<DatetimeArray>\n",
       "['2021-04-11 00:00:00', '2021-04-21 00:00:00', '2021-04-23 00:00:00',\n",
       " '2021-04-27 00:00:00', '2021-05-05 00:00:00', '2021-05-06 00:00:00',\n",
       " '2021-05-13 00:00:00', '2021-05-26 00:00:00', '2021-05-27 00:00:00',\n",
       " '2021-06-23 00:00:00', '2021-07-12 00:00:00', '2021-07-20 00:00:00',\n",
       " '2021-09-09 00:00:00', '2021-10-26 00:00:00', '2021-10-28 00:00:00',\n",
       " '2022-06-01 00:00:00', '2022-06-13 00:00:00', '2022-06-15 00:00:00',\n",
       " '2022-06-16 00:00:00', '2022-07-20 00:00:00', '2022-07-27 00:00:00',\n",
       " '2022-08-18 00:00:00', '2022-08-22 00:00:00', '2022-08-31 00:00:00',\n",
       " '2022-10-04 00:00:00', '2022-10-20 00:00:00', '2022-11-02 00:00:00',\n",
       " '2022-11-03 00:00:00', '2022-11-21 00:00:00', '2022-12-08 00:00:00',\n",
       " '2022-12-09 00:00:00', '2022-12-15 00:00:00', '2023-01-09 00:00:00',\n",
       " '2023-01-13 00:00:00', '2023-03-09 00:00:00']\n",
       "Length: 35, dtype: datetime64[ns]"
      ]
     },
     "execution_count": 19,
     "metadata": {},
     "output_type": "execute_result"
    }
   ],
   "source": [
    "# Additional Checks\n",
    "customer_shipped_dates[100000354]"
   ]
  },
  {
   "cell_type": "code",
   "execution_count": 11,
   "metadata": {},
   "outputs": [
    {
     "data": {
      "text/plain": [
       "66162"
      ]
     },
     "execution_count": 11,
     "metadata": {},
     "output_type": "execute_result"
    }
   ],
   "source": [
    "86198 - 20036"
   ]
  },
  {
   "cell_type": "code",
   "execution_count": null,
   "metadata": {},
   "outputs": [],
   "source": []
  }
 ],
 "metadata": {
  "kernelspec": {
   "display_name": "venv",
   "language": "python",
   "name": "python3"
  },
  "language_info": {
   "codemirror_mode": {
    "name": "ipython",
    "version": 3
   },
   "file_extension": ".py",
   "mimetype": "text/x-python",
   "name": "python",
   "nbconvert_exporter": "python",
   "pygments_lexer": "ipython3",
   "version": "3.10.0"
  },
  "orig_nbformat": 4
 },
 "nbformat": 4,
 "nbformat_minor": 2
}
