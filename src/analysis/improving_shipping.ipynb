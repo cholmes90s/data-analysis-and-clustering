{
 "cells": [
  {
   "cell_type": "code",
   "execution_count": null,
   "metadata": {},
   "outputs": [],
   "source": [
    "import sys\n",
    "sys.path.append('../..')\n",
    "import pandas as pd\n",
    "import src.cleaning as clean\n",
    "import seaborn as sns\n",
    "import src.analysis.utils as utils\n",
    "import numpy as np"
   ]
  },
  {
   "cell_type": "code",
   "execution_count": null,
   "metadata": {},
   "outputs": [],
   "source": [
    "sales_data = pd.read_csv('../../data/anon_data.csv')\n",
    "cleaned_data = clean.clean_data(sales_data)"
   ]
  },
  {
   "cell_type": "code",
   "execution_count": null,
   "metadata": {},
   "outputs": [],
   "source": [
    "#Restrict to only orders being sent not returned - being quantity > 0 \n",
    "positive_quantity = cleaned_data.loc[cleaned_data['quantity']>0, :]"
   ]
  },
  {
   "cell_type": "code",
   "execution_count": null,
   "metadata": {},
   "outputs": [],
   "source": [
    "customer_shipped_dates = positive_quantity.groupby('customer_id')['ship_date'].unique()"
   ]
  },
  {
   "cell_type": "code",
   "execution_count": null,
   "metadata": {},
   "outputs": [],
   "source": [
    "customer_shipped_days_between = customer_shipped_dates.apply(utils.calculate_days_between)\n",
    "customer_shipped_days_between"
   ]
  },
  {
   "cell_type": "code",
   "execution_count": null,
   "metadata": {},
   "outputs": [],
   "source": [
    "customer_shipped_dates.apply(len).sum()"
   ]
  },
  {
   "cell_type": "code",
   "execution_count": null,
   "metadata": {},
   "outputs": [],
   "source": [
    "average_customer_shipping_times = customer_shipped_days_between.dropna().apply(np.mean).sort_values()\n",
    "average_customer_shipping_times[(average_customer_shipping_times > 0) & (average_customer_shipping_times <= 2)].shape"
   ]
  },
  {
   "cell_type": "code",
   "execution_count": null,
   "metadata": {},
   "outputs": [],
   "source": [
    "shipping_difference_equal_1 = customer_shipped_days_between.apply(lambda row: utils.calculate_result_of_waiting(row, max_days_to_wait=1))\n",
    "shipping_difference_equal_1.sum()"
   ]
  },
  {
   "cell_type": "code",
   "execution_count": null,
   "metadata": {},
   "outputs": [],
   "source": [
    "# CHECKING\n",
    "# If there is one shipment per customer as we wait for all their orders, this should be equal to number of customers\n",
    "# Number of shipments - Number to subtract if we wait for all orders == Number of customers\n",
    "customer_shipped_dates.apply(len).sum() - customer_shipped_days_between.apply(lambda row: utils.calculate_result_of_waiting(row, max_days_to_wait=12000)).sum() == positive_quantity['customer_id'].unique().shape[0]"
   ]
  },
  {
   "cell_type": "code",
   "execution_count": null,
   "metadata": {},
   "outputs": [],
   "source": [
    "# Additional Checks\n",
    "customer_shipped_dates[100000354]"
   ]
  }
 ],
 "metadata": {
  "kernelspec": {
   "display_name": "venv",
   "language": "python",
   "name": "python3"
  },
  "language_info": {
   "codemirror_mode": {
    "name": "ipython",
    "version": 3
   },
   "file_extension": ".py",
   "mimetype": "text/x-python",
   "name": "python",
   "nbconvert_exporter": "python",
   "pygments_lexer": "ipython3",
   "version": "3.10.0"
  },
  "orig_nbformat": 4
 },
 "nbformat": 4,
 "nbformat_minor": 2
}
