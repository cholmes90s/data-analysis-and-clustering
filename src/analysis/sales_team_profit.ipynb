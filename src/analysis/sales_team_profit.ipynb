{
 "cells": [
  {
   "cell_type": "code",
   "execution_count": null,
   "metadata": {},
   "outputs": [],
   "source": [
    "import sys\n",
    "sys.path.append('../..')\n",
    "import pandas as pd\n",
    "import src.cleaning as clean\n",
    "import seaborn as sns\n",
    "import scipy.stats as stats\n",
    "import itertools"
   ]
  },
  {
   "cell_type": "code",
   "execution_count": null,
   "metadata": {},
   "outputs": [],
   "source": [
    "sales_data = pd.read_csv('../../data/anon_data.csv')\n",
    "cleaned_data = clean.clean_data(sales_data)"
   ]
  },
  {
   "cell_type": "code",
   "execution_count": null,
   "metadata": {},
   "outputs": [],
   "source": [
    "clean_w_profit_per_quant = cleaned_data.assign(profit_per_item=cleaned_data['profit']/cleaned_data['quantity'])"
   ]
  },
  {
   "cell_type": "code",
   "execution_count": null,
   "metadata": {},
   "outputs": [],
   "source": [
    "clean_w_date_quarter = clean_w_profit_per_quant.assign(year_quarter=clean_w_profit_per_quant['ship_date'].dt.to_period('Q'))"
   ]
  },
  {
   "cell_type": "code",
   "execution_count": null,
   "metadata": {},
   "outputs": [],
   "source": [
    "grouped_by_sales_team = clean_w_date_quarter.groupby('sales_team_name')"
   ]
  },
  {
   "cell_type": "code",
   "execution_count": null,
   "metadata": {},
   "outputs": [],
   "source": [
    "def plot_barplot(data, x: str, y:str, xlabel: str, ylabel: str, title: str, hue: str = None):\n",
    "    plot = sns.barplot(data, x=x, y=y, hue=hue, orient='v', palette='flare')\n",
    "    for label in plot.get_xticklabels():\n",
    "        label.set_rotation(70)\n",
    "    plot.set(xlabel=xlabel, ylabel=ylabel, title=title)\n",
    "    plot.grid()\n",
    "    plot.set_axisbelow(True) \n",
    "    return plot"
   ]
  },
  {
   "attachments": {},
   "cell_type": "markdown",
   "metadata": {},
   "source": [
    "# Sum Profit"
   ]
  },
  {
   "cell_type": "code",
   "execution_count": null,
   "metadata": {},
   "outputs": [],
   "source": [
    "profit_by_sales_team = grouped_by_sales_team['profit'].sum().reset_index(drop=False)\n",
    "profit_by_sales_team['profit'] = profit_by_sales_team['profit'] / 1_000_000\n",
    "barplot = plot_barplot(profit_by_sales_team, x='sales_team_name', y='profit', xlabel= 'Sales Team', ylabel='Profit (Millons)', title='Total Profit By Sales Team')\n",
    "barplot\n"
   ]
  },
  {
   "cell_type": "code",
   "execution_count": null,
   "metadata": {},
   "outputs": [],
   "source": [
    "# Save to image\n",
    "figure = barplot.get_figure()\n",
    "figure.savefig('../../images/sales_team_profit/total_profit.png', transparent=True, bbox_inches='tight')"
   ]
  },
  {
   "cell_type": "code",
   "execution_count": null,
   "metadata": {},
   "outputs": [],
   "source": [
    "cleaned_data['profit'].sum()"
   ]
  },
  {
   "cell_type": "code",
   "execution_count": null,
   "metadata": {},
   "outputs": [],
   "source": [
    "profit_by_sales_team = grouped_by_sales_team['quantity'].sum().reset_index(drop=False)\n",
    "profit_by_sales_team['quantity'] = profit_by_sales_team['quantity'] / 1_000_000\n",
    "barplot = plot_barplot(profit_by_sales_team, x='sales_team_name', y='quantity', xlabel= 'Sales Team', ylabel='Quantity Sold (Millions)', title='Quantity Sold By Sales Team')\n",
    "barplot\n",
    "figure = barplot.get_figure()\n",
    "figure.savefig('../../images/sales_team_profit/total_quantity.png', transparent=True, bbox_inches='tight')"
   ]
  },
  {
   "attachments": {},
   "cell_type": "markdown",
   "metadata": {},
   "source": [
    "# Average Profit By Record"
   ]
  },
  {
   "cell_type": "code",
   "execution_count": null,
   "metadata": {},
   "outputs": [],
   "source": [
    "# Average Profit By Sales Invoice\n",
    "profit_by_sales_team = grouped_by_sales_team['profit'].mean().reset_index(drop=False)\n",
    "barplot = plot_barplot(profit_by_sales_team, x='sales_team_name', y='profit', xlabel= 'Sales Team', ylabel='Average Profit', title='Average Profit By Sales Team')\n",
    "barplot\n"
   ]
  },
  {
   "cell_type": "code",
   "execution_count": null,
   "metadata": {},
   "outputs": [],
   "source": [
    "profit_by_sales_team = grouped_by_sales_team['profit'].median().reset_index(drop=False)\n",
    "barplot = plot_barplot(profit_by_sales_team, x='sales_team_name', y='profit', xlabel= 'Sales Team', ylabel='Average Profit', title='Average Profit By Sales Team')\n",
    "barplot.set(ylim=(-8, 10))\n",
    "figure = barplot.get_figure()\n",
    "figure.savefig('../../images/sales_team_profit/average_profit.png', transparent=True, bbox_inches='tight')\n"
   ]
  },
  {
   "cell_type": "code",
   "execution_count": null,
   "metadata": {},
   "outputs": [],
   "source": [
    "# Test whether the differnce is significant, using \n",
    "team_list = dict()\n",
    "b2b = clean_w_date_quarter.loc[clean_w_date_quarter['sales_team_name'] == 'B2B Others', 'profit']\n",
    "team_list.setdefault('b2b', b2b)\n",
    "comp_north = clean_w_date_quarter.loc[clean_w_date_quarter['sales_team_name'] == 'Components North', 'profit']\n",
    "team_list.setdefault('comp_north', comp_north)\n",
    "corp_north = clean_w_date_quarter.loc[clean_w_date_quarter['sales_team_name'] == 'Corporate North', 'profit']\n",
    "team_list.setdefault('corp_north', corp_north)\n",
    "corp_south = clean_w_date_quarter.loc[clean_w_date_quarter['sales_team_name'] == 'Corporate South', 'profit']\n",
    "team_list.setdefault('corp_south', corp_south)\n",
    "dc_power = clean_w_date_quarter.loc[clean_w_date_quarter['sales_team_name'] == 'DC Power North & NW', 'profit']\n",
    "team_list.setdefault('dc_power', dc_power)\n",
    "office_auto = clean_w_date_quarter.loc[clean_w_date_quarter['sales_team_name'] == 'Office Automation', 'profit']\n",
    "team_list.setdefault('office_auto', office_auto)\n",
    "smb_north = clean_w_date_quarter.loc[clean_w_date_quarter['sales_team_name'] == 'SMB 1 North', 'profit']\n",
    "team_list.setdefault('smb_north', smb_north)\n",
    "smb_south = clean_w_date_quarter.loc[clean_w_date_quarter['sales_team_name'] == 'SMB 1 South', 'profit']\n",
    "team_list.setdefault('smb_south', smb_south)\n",
    "cart_prod = list(itertools.product(team_list, team_list))"
   ]
  },
  {
   "cell_type": "code",
   "execution_count": null,
   "metadata": {},
   "outputs": [],
   "source": [
    "# Test whether the differnce is significant, using kruskal wallis as by looking at means and medians, data is significantly positively skewed and kruskal wallis is non-parametric \n",
    "for team_1, team_2 in cart_prod:\n",
    "    print(f'{team_1} vs {team_2}')\n",
    "    print(stats.kruskal(team_list[team_1], team_list[team_2]).pvalue)\n"
   ]
  },
  {
   "cell_type": "code",
   "execution_count": null,
   "metadata": {},
   "outputs": [],
   "source": [
    "print(stats.median_test(b2b, corp_north))"
   ]
  },
  {
   "cell_type": "code",
   "execution_count": null,
   "metadata": {},
   "outputs": [],
   "source": [
    "# Test medians aswell\n",
    "for team_1, team_2 in cart_prod:\n",
    "    print(f'{team_1} vs {team_2}')\n",
    "    print(stats.median_test(team_list[team_1], team_list[team_2]).pvalue)"
   ]
  },
  {
   "cell_type": "code",
   "execution_count": null,
   "metadata": {},
   "outputs": [],
   "source": [
    "# Due to the number of data points, its is safe to say that the differences between sales_teams are significant. "
   ]
  },
  {
   "attachments": {},
   "cell_type": "markdown",
   "metadata": {},
   "source": [
    "# Profit Per Item Sold"
   ]
  },
  {
   "cell_type": "code",
   "execution_count": null,
   "metadata": {},
   "outputs": [],
   "source": [
    "profit_by_sales_team = grouped_by_sales_team['profit'].sum()\n",
    "quantity_by_sales_team = grouped_by_sales_team['quantity'].sum()\n",
    "profit_per_item = profit_by_sales_team/quantity_by_sales_team\n",
    "profit_per_item = profit_per_item.reset_index(drop=False)\n",
    "profit_per_item.columns = ['sales_team_name', 'profit_per_item']\n",
    "barplot = plot_barplot(profit_per_item, x='sales_team_name', y='profit_per_item', xlabel= 'Sales Team', ylabel='Profit Per Item', title='Average Profit Per Item Sold By Sales Team')\n",
    "barplot.set(ylim=(-8, 10))\n",
    "figure = barplot.get_figure()\n",
    "figure.savefig('../../images/sales_team_profit/profit_per_item_sold.png', transparent=True, bbox_inches='tight')"
   ]
  },
  {
   "attachments": {},
   "cell_type": "markdown",
   "metadata": {},
   "source": [
    "# Profit Per Order"
   ]
  },
  {
   "cell_type": "code",
   "execution_count": null,
   "metadata": {},
   "outputs": [],
   "source": [
    "# Not dropping negative orders\n",
    "profit_sales_team_sale = clean_w_date_quarter.groupby(['sales_team_name', 'sales_order_number'])[['profit']].sum()\n",
    "profit_sales_team_expanded = profit_sales_team_sale.reset_index(level=1, drop=False)\n",
    "med_profit_sales_team = profit_sales_team_expanded.groupby('sales_team_name')['profit'].mean()\n",
    "med_profit_sales_team\n"
   ]
  },
  {
   "cell_type": "code",
   "execution_count": null,
   "metadata": {},
   "outputs": [],
   "source": [
    "profit_by_sales_team = grouped_by_sales_team['profit'].sum()\n",
    "# Need to only consider orders with positive quantity as although negative quantity will cancel out positive quantity, all orders would be counted towards the total.\n",
    "# However returns are not an order but rather an undoing of an order, therefore the original order is effectively an order with no profit counted as 1. Could take it further and remove the order entire but that is quite hard to \n",
    "# handle as returns can cover multiple orders. Therefore profit by item sold is a better metric.\n",
    "only_sales_not_returns = clean_w_date_quarter.loc[clean_w_date_quarter['quantity']> 0, :]\n",
    "orders_per_sales_team = only_sales_not_returns.groupby('sales_team_name')['sales_order_number'].unique().apply(len)\n",
    "profit_per_item = profit_by_sales_team/orders_per_sales_team\n",
    "profit_per_item = profit_per_item.reset_index(drop=False)\n",
    "profit_per_item.columns = ['sales_team_name', 'profit_per_sale']\n",
    "barplot = plot_barplot(profit_per_item, x='sales_team_name', y='profit_per_sale', xlabel= 'Sales Team', ylabel='Profit Per Sale', title='Average Profit Per Sale By Sales Team')\n",
    "barplot.set(ylim=(-10, 70))\n",
    "barplot\n",
    "figure = barplot.get_figure()\n",
    "figure.savefig('../../images/sales_team_profit/profit_per_order.png', transparent=True, bbox_inches='tight')"
   ]
  },
  {
   "cell_type": "code",
   "execution_count": null,
   "metadata": {},
   "outputs": [],
   "source": [
    "profit_per_item"
   ]
  },
  {
   "attachments": {},
   "cell_type": "markdown",
   "metadata": {},
   "source": [
    "# Profit Per Quarter"
   ]
  },
  {
   "cell_type": "code",
   "execution_count": null,
   "metadata": {},
   "outputs": [],
   "source": [
    "grouped_by_sales_team_quarter = clean_w_date_quarter.groupby(['sales_team_name', 'year_quarter'])\n",
    "summed_by_team_quarter = grouped_by_sales_team_quarter['profit'].sum().reset_index(level=[0,1], drop=False)\n",
    "summed_by_team_quarter['profit'] = summed_by_team_quarter['profit']/100_000\n",
    "summed_by_team_quarter['year_quarter'] = summed_by_team_quarter['year_quarter'].astype(str)\n",
    "plot = sns.lineplot(data=summed_by_team_quarter, x='year_quarter', y='profit', hue='sales_team_name')\n",
    "plot.set(xlabel='Year/Quarter', ylabel='Profit (Hundred Thousands)', title='Profit Per Quarter By Sales Team')\n",
    "sns.move_legend(plot, \"upper left\", bbox_to_anchor=(1,1))\n",
    "plot.grid()\n",
    "plot.set_axisbelow(True) \n",
    "figure = plot.get_figure()\n",
    "figure.savefig('../../images/sales_team_profit/profit_by_quarter.png', transparent=True, bbox_inches='tight')"
   ]
  },
  {
   "cell_type": "code",
   "execution_count": null,
   "metadata": {},
   "outputs": [],
   "source": [
    "grouped_by_sales_team_quarter = clean_w_date_quarter.groupby(['sales_team_name', 'year_quarter'])\n",
    "summed_by_team_quarter = grouped_by_sales_team_quarter['quantity'].sum().reset_index(level=[0,1], drop=False)\n",
    "summed_by_team_quarter['quantity'] = summed_by_team_quarter['quantity']/100_000\n",
    "summed_by_team_quarter['year_quarter'] = summed_by_team_quarter['year_quarter'].astype(str)\n",
    "plot = sns.lineplot(data=summed_by_team_quarter, x='year_quarter', y='quantity', hue='sales_team_name')\n",
    "plot.set(xlabel='Year/Quarter', ylabel='Quantity (Hundred Thousands)', title='Quantity Sold Per Quarter By Sales Team')\n",
    "sns.move_legend(plot, \"upper left\", bbox_to_anchor=(1,1))\n",
    "plot.grid()\n",
    "plot.set_axisbelow(True) \n",
    "figure = plot.get_figure()\n",
    "figure.savefig('../../images/sales_team_profit/quantity_by_quarter.png', transparent=True, bbox_inches='tight')"
   ]
  },
  {
   "attachments": {},
   "cell_type": "markdown",
   "metadata": {},
   "source": [
    "# Profit Per Item Per Quarter"
   ]
  },
  {
   "cell_type": "code",
   "execution_count": null,
   "metadata": {},
   "outputs": [],
   "source": [
    "grouped_by_sales_team_quarter = clean_w_date_quarter.groupby(['sales_team_name', 'year_quarter'])\n",
    "profit_by_sales_team = grouped_by_sales_team_quarter['profit'].sum()\n",
    "quantity_by_sales_team = grouped_by_sales_team_quarter['quantity'].sum()\n",
    "profit_per_item = profit_by_sales_team/quantity_by_sales_team\n",
    "profit_per_item_by_team_quarter = profit_per_item.reset_index(level=[0,1], drop=False)\n",
    "\n",
    "profit_per_item_by_team_quarter.columns = ['sales_team_name', 'year_quarter', 'profit_per_item']\n",
    "profit_per_item_by_team_quarter['profit_per_item'] = profit_per_item_by_team_quarter['profit_per_item']\n",
    "profit_per_item_by_team_quarter['year_quarter'] = profit_per_item_by_team_quarter['year_quarter'].astype(str)\n",
    "plot = sns.lineplot(data=profit_per_item_by_team_quarter, x='year_quarter', y='profit_per_item', hue='sales_team_name', sizes=(400,400))\n",
    "plot.set(xlabel='Year/Quarter', ylabel='Profit Per Item', title='Profit Per Quarter By Sales Team')\n",
    "plot.grid()\n",
    "plot.set_axisbelow(True) \n",
    "sns.move_legend(plot, \"upper left\", bbox_to_anchor=(1,1))"
   ]
  },
  {
   "cell_type": "code",
   "execution_count": null,
   "metadata": {},
   "outputs": [],
   "source": [
    "grouped_by_sales_team_quarter = clean_w_date_quarter.groupby(['sales_team_name', 'year_quarter'])\n",
    "profit_by_sales_team = grouped_by_sales_team_quarter['profit'].sum()\n",
    "quantity_by_sales_team = grouped_by_sales_team_quarter['quantity'].count()\n",
    "profit_per_item = profit_by_sales_team/quantity_by_sales_team\n",
    "profit_per_item_by_team_quarter = profit_per_item.reset_index(level=[0,1], drop=False)\n",
    "\n",
    "profit_per_item_by_team_quarter.columns = ['sales_team_name', 'year_quarter', 'profit_per_item']\n",
    "profit_per_item_by_team_quarter['profit_per_item'] = profit_per_item_by_team_quarter['profit_per_item']\n",
    "profit_per_item_by_team_quarter['year_quarter'] = profit_per_item_by_team_quarter['year_quarter'].astype(str)\n",
    "plot = sns.lineplot(data=profit_per_item_by_team_quarter, x='year_quarter', y='profit_per_item', hue='sales_team_name', sizes=(400,400))\n",
    "plot.set(xlabel='Year/Quarter', ylabel='Profit Per Order', title='Profit Per Quarter By Sales Team')\n",
    "sns.move_legend(plot, \"upper left\", bbox_to_anchor=(1,1))\n",
    "plot.grid()\n",
    "plot.set_axisbelow(True) \n",
    "figure = plot.get_figure()\n",
    "figure.savefig('../../images/sales_team_profit/profit_by_quarter.png', transparent=True, bbox_inches='tight')"
   ]
  }
 ],
 "metadata": {
  "kernelspec": {
   "display_name": "venv",
   "language": "python",
   "name": "python3"
  },
  "language_info": {
   "codemirror_mode": {
    "name": "ipython",
    "version": 3
   },
   "file_extension": ".py",
   "mimetype": "text/x-python",
   "name": "python",
   "nbconvert_exporter": "python",
   "pygments_lexer": "ipython3",
   "version": "3.10.0"
  },
  "orig_nbformat": 4
 },
 "nbformat": 4,
 "nbformat_minor": 2
}
