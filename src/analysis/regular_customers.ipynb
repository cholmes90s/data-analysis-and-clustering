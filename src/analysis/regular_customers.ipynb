{
 "cells": [
  {
   "cell_type": "code",
   "execution_count": null,
   "metadata": {},
   "outputs": [],
   "source": [
    "import sys\n",
    "sys.path.append('../..')\n",
    "import pandas as pd\n",
    "import src.cleaning as clean\n",
    "import numpy as np\n",
    "import seaborn as sns\n",
    "import src.analysis.utils as utils"
   ]
  },
  {
   "cell_type": "code",
   "execution_count": null,
   "metadata": {},
   "outputs": [],
   "source": [
    "sales_data = pd.read_csv('../../data/anon_data.csv')\n",
    "cleaned_data = clean.clean_data(sales_data)"
   ]
  },
  {
   "cell_type": "code",
   "execution_count": null,
   "metadata": {},
   "outputs": [],
   "source": [
    "# Assume order date is the earliest shipping date\n",
    "cleaned_data['order_date'] = cleaned_data.groupby('sales_order_number')['ship_date'].transform(min)"
   ]
  },
  {
   "cell_type": "code",
   "execution_count": null,
   "metadata": {},
   "outputs": [],
   "source": [
    "#Restrict to only orders being sent not returned - being quantity > 0 \n",
    "positive_quantity = cleaned_data.loc[cleaned_data['quantity']>0, :]"
   ]
  },
  {
   "attachments": {},
   "cell_type": "markdown",
   "metadata": {},
   "source": [
    "# Most Frequent Customers"
   ]
  },
  {
   "cell_type": "code",
   "execution_count": null,
   "metadata": {},
   "outputs": [],
   "source": [
    "# Number of order days by customer, restriction being quantity > 0 \n",
    "customer_order_dates = positive_quantity.groupby('customer_id')['order_date'].unique()\n",
    "customer_regularity = customer_order_dates.apply(len).sort_values(ascending=False)\n",
    "top_10_regular_customers = customer_regularity.iloc[list(range(0, 10))]\n",
    "top_10_regular_customers"
   ]
  },
  {
   "cell_type": "code",
   "execution_count": null,
   "metadata": {},
   "outputs": [],
   "source": [
    "top_10_regular_customers.sum()"
   ]
  },
  {
   "cell_type": "code",
   "execution_count": null,
   "metadata": {},
   "outputs": [],
   "source": [
    "customer_regularity[customer_regularity>customer_regularity.quantile(0.9)]"
   ]
  },
  {
   "cell_type": "code",
   "execution_count": null,
   "metadata": {},
   "outputs": [],
   "source": [
    "average_days_between_customer_orders = customer_order_dates.loc[top_10_regular_customers.index].apply(utils.calculate_days_between)\n",
    "average_days_between_customer_orders.apply(np.mean)"
   ]
  },
  {
   "attachments": {},
   "cell_type": "markdown",
   "metadata": {},
   "source": [
    "# Regularly Ordered by Regulars"
   ]
  },
  {
   "cell_type": "code",
   "execution_count": null,
   "metadata": {},
   "outputs": [],
   "source": [
    "positive_quantity_by_regulars = positive_quantity.loc[positive_quantity['customer_id'].isin(top_10_regular_customers.index), :]\n",
    "positive_quantity_by_regulars.groupby('customer_id')['order_date'].unique().apply(len).sort_values(ascending=False).sum()"
   ]
  },
  {
   "cell_type": "code",
   "execution_count": null,
   "metadata": {},
   "outputs": [],
   "source": [
    "# Groupby brand and item\n",
    "dates_of_items_ordered = positive_quantity_by_regulars.groupby(['brand', 'product_type'])['order_date'].unique()\n",
    "number_of_days_item_ordered = dates_of_items_ordered.apply(len).sort_values(ascending=False)\n",
    "most_commonly_ordered_items = number_of_days_item_ordered.loc[number_of_days_item_ordered.iloc[list(range(10))].index]\n",
    "most_commonly_ordered_items"
   ]
  },
  {
   "cell_type": "code",
   "execution_count": null,
   "metadata": {},
   "outputs": [],
   "source": [
    "most_commonly_ordered_items.sum()"
   ]
  },
  {
   "cell_type": "code",
   "execution_count": null,
   "metadata": {},
   "outputs": [],
   "source": [
    "days_between_items_ordered = dates_of_items_ordered[most_commonly_ordered_items.index].apply(utils.calculate_days_between).apply(np.mean).sort_values(ascending=True)\n",
    "days_between_items_ordered"
   ]
  }
 ],
 "metadata": {
  "kernelspec": {
   "display_name": "venv",
   "language": "python",
   "name": "python3"
  },
  "language_info": {
   "codemirror_mode": {
    "name": "ipython",
    "version": 3
   },
   "file_extension": ".py",
   "mimetype": "text/x-python",
   "name": "python",
   "nbconvert_exporter": "python",
   "pygments_lexer": "ipython3",
   "version": "3.10.0"
  },
  "orig_nbformat": 4
 },
 "nbformat": 4,
 "nbformat_minor": 2
}
