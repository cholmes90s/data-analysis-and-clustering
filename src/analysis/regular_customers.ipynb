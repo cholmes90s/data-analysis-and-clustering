{
 "cells": [
  {
   "cell_type": "code",
   "execution_count": 1,
   "metadata": {},
   "outputs": [],
   "source": [
    "import sys\n",
    "sys.path.append('../..')\n",
    "import pandas as pd\n",
    "import src.cleaning as clean\n",
    "import numpy as np\n",
    "import seaborn as sns\n",
    "import src.analysis.utils as utils"
   ]
  },
  {
   "cell_type": "code",
   "execution_count": 2,
   "metadata": {},
   "outputs": [
    {
     "name": "stderr",
     "output_type": "stream",
     "text": [
      "C:\\Users\\C\\AppData\\Local\\Temp\\ipykernel_21720\\1800904834.py:1: DtypeWarning: Columns (1) have mixed types. Specify dtype option on import or set low_memory=False.\n",
      "  sales_data = pd.read_csv('../../data/anon_data.csv')\n"
     ]
    }
   ],
   "source": [
    "sales_data = pd.read_csv('../../data/anon_data.csv')\n",
    "cleaned_data = clean.clean_data(sales_data)"
   ]
  },
  {
   "cell_type": "code",
   "execution_count": 3,
   "metadata": {},
   "outputs": [],
   "source": [
    "# Assume order date is the earliest shipping date\n",
    "cleaned_data['order_date'] = cleaned_data.groupby('sales_order_number')['ship_date'].transform(min)"
   ]
  },
  {
   "cell_type": "code",
   "execution_count": 4,
   "metadata": {},
   "outputs": [],
   "source": [
    "#Restrict to only orders being sent not returned - being quantity > 0 \n",
    "positive_quantity = cleaned_data.loc[cleaned_data['quantity']>0, :]"
   ]
  },
  {
   "attachments": {},
   "cell_type": "markdown",
   "metadata": {},
   "source": [
    "# Most Frequent Customers"
   ]
  },
  {
   "cell_type": "code",
   "execution_count": 5,
   "metadata": {},
   "outputs": [
    {
     "data": {
      "text/plain": [
       "customer_id\n",
       "100002803    499\n",
       "100001590    487\n",
       "100007970    487\n",
       "100004472    480\n",
       "100001570    460\n",
       "100001046    451\n",
       "100000985    408\n",
       "100009033    407\n",
       "100008245    406\n",
       "100005771    400\n",
       "Name: order_date, dtype: int64"
      ]
     },
     "execution_count": 5,
     "metadata": {},
     "output_type": "execute_result"
    }
   ],
   "source": [
    "# Number of order days by customer, restriction being quantity > 0 \n",
    "customer_order_dates = positive_quantity.groupby('customer_id')['order_date'].unique()\n",
    "customer_regularity = customer_order_dates.apply(len).sort_values(ascending=False)\n",
    "top_10_regular_customers = customer_regularity.iloc[list(range(0, 10))]\n",
    "top_10_regular_customers"
   ]
  },
  {
   "cell_type": "code",
   "execution_count": 6,
   "metadata": {},
   "outputs": [
    {
     "data": {
      "text/plain": [
       "4485"
      ]
     },
     "execution_count": 6,
     "metadata": {},
     "output_type": "execute_result"
    }
   ],
   "source": [
    "top_10_regular_customers.sum()"
   ]
  },
  {
   "cell_type": "code",
   "execution_count": 7,
   "metadata": {},
   "outputs": [
    {
     "data": {
      "text/plain": [
       "customer_id\n",
       "100002803    499\n",
       "100001590    487\n",
       "100007970    487\n",
       "100004472    480\n",
       "100001570    460\n",
       "            ... \n",
       "100020244     57\n",
       "100013216     57\n",
       "100006770     56\n",
       "100014962     56\n",
       "100005620     56\n",
       "Name: order_date, Length: 329, dtype: int64"
      ]
     },
     "execution_count": 7,
     "metadata": {},
     "output_type": "execute_result"
    }
   ],
   "source": [
    "customer_regularity[customer_regularity>customer_regularity.quantile(0.9)]"
   ]
  },
  {
   "cell_type": "code",
   "execution_count": 8,
   "metadata": {},
   "outputs": [
    {
     "data": {
      "text/plain": [
       "customer_id\n",
       "100002803    1.419679\n",
       "100001590    1.454733\n",
       "100007970    1.454733\n",
       "100004472    1.471816\n",
       "100001570    1.540305\n",
       "100001046    1.568889\n",
       "100000985    1.734644\n",
       "100009033    1.731527\n",
       "100008245    1.738272\n",
       "100005771    1.761905\n",
       "Name: order_date, dtype: float64"
      ]
     },
     "execution_count": 8,
     "metadata": {},
     "output_type": "execute_result"
    }
   ],
   "source": [
    "average_days_between_customer_orders = customer_order_dates.loc[top_10_regular_customers.index].apply(utils.calculate_days_between)\n",
    "average_days_between_customer_orders.apply(np.mean)"
   ]
  },
  {
   "attachments": {},
   "cell_type": "markdown",
   "metadata": {},
   "source": [
    "# Regularly Ordered by Regulars"
   ]
  },
  {
   "cell_type": "code",
   "execution_count": 9,
   "metadata": {},
   "outputs": [
    {
     "data": {
      "text/plain": [
       "4485"
      ]
     },
     "execution_count": 9,
     "metadata": {},
     "output_type": "execute_result"
    }
   ],
   "source": [
    "positive_quantity_by_regulars = positive_quantity.loc[positive_quantity['customer_id'].isin(top_10_regular_customers.index), :]\n",
    "positive_quantity_by_regulars.groupby('customer_id')['order_date'].unique().apply(len).sort_values(ascending=False).sum()"
   ]
  },
  {
   "cell_type": "code",
   "execution_count": 10,
   "metadata": {},
   "outputs": [
    {
     "data": {
      "text/plain": [
       "brand      product_type           \n",
       "Poly       Headset                    438\n",
       "Dell       Monitors                   436\n",
       "Lenovo     Notebook Computers         423\n",
       "           Monitors                   391\n",
       "Dell       Keyboard and Mouse         388\n",
       "Microsoft  Office Suite Software      387\n",
       "Philips    Monitors                   382\n",
       "Dell       Mouse/Trackballs           378\n",
       "LG         Monitors                   377\n",
       "Lenovo     Professional Desktop PC    377\n",
       "Name: order_date, dtype: int64"
      ]
     },
     "execution_count": 10,
     "metadata": {},
     "output_type": "execute_result"
    }
   ],
   "source": [
    "# Groupby brand and item\n",
    "dates_of_items_ordered = positive_quantity_by_regulars.groupby(['brand', 'product_type'])['order_date'].unique()\n",
    "number_of_days_item_ordered = dates_of_items_ordered.apply(len).sort_values(ascending=False)\n",
    "most_commonly_ordered_items = number_of_days_item_ordered.loc[number_of_days_item_ordered.iloc[list(range(10))].index]\n",
    "most_commonly_ordered_items"
   ]
  },
  {
   "cell_type": "code",
   "execution_count": 11,
   "metadata": {},
   "outputs": [
    {
     "data": {
      "text/plain": [
       "3977"
      ]
     },
     "execution_count": 11,
     "metadata": {},
     "output_type": "execute_result"
    }
   ],
   "source": [
    "most_commonly_ordered_items.sum()"
   ]
  },
  {
   "cell_type": "code",
   "execution_count": 12,
   "metadata": {},
   "outputs": [
    {
     "data": {
      "text/plain": [
       "brand      product_type           \n",
       "Poly       Headset                    1.615561\n",
       "Dell       Monitors                   1.622989\n",
       "Lenovo     Notebook Computers         1.677725\n",
       "           Monitors                   1.812821\n",
       "Microsoft  Office Suite Software      1.821244\n",
       "Dell       Keyboard and Mouse         1.824289\n",
       "Philips    Monitors                   1.845144\n",
       "Dell       Mouse/Trackballs           1.864721\n",
       "LG         Monitors                   1.867021\n",
       "Lenovo     Professional Desktop PC    1.869681\n",
       "Name: order_date, dtype: float64"
      ]
     },
     "execution_count": 12,
     "metadata": {},
     "output_type": "execute_result"
    }
   ],
   "source": [
    "days_between_items_ordered = dates_of_items_ordered[most_commonly_ordered_items.index].apply(utils.calculate_days_between).apply(np.mean).sort_values(ascending=True)\n",
    "days_between_items_ordered"
   ]
  }
 ],
 "metadata": {
  "kernelspec": {
   "display_name": "venv",
   "language": "python",
   "name": "python3"
  },
  "language_info": {
   "codemirror_mode": {
    "name": "ipython",
    "version": 3
   },
   "file_extension": ".py",
   "mimetype": "text/x-python",
   "name": "python",
   "nbconvert_exporter": "python",
   "pygments_lexer": "ipython3",
   "version": "3.10.0"
  },
  "orig_nbformat": 4
 },
 "nbformat": 4,
 "nbformat_minor": 2
}
