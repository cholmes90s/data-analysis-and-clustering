{
 "cells": [
  {
   "cell_type": "code",
   "execution_count": null,
   "metadata": {},
   "outputs": [],
   "source": [
    "import sys\n",
    "sys.path.append('../..')\n",
    "import pandas as pd\n",
    "import src.cleaning as clean\n",
    "import seaborn as sns\n",
    "import src.analysis.utils as utils\n",
    "import numpy as np\n",
    "import scipy.stats as stats"
   ]
  },
  {
   "cell_type": "code",
   "execution_count": null,
   "metadata": {},
   "outputs": [],
   "source": [
    "sales_data = pd.read_csv('../../data/anon_data.csv')\n",
    "cleaned_data = clean.clean_data(sales_data)"
   ]
  },
  {
   "cell_type": "code",
   "execution_count": null,
   "metadata": {},
   "outputs": [],
   "source": [
    "# Keep in refunds as refunded/returned items shouldn't have been ordered."
   ]
  },
  {
   "cell_type": "code",
   "execution_count": null,
   "metadata": {},
   "outputs": [],
   "source": [
    "cleaned_data['product_type'].unique().shape"
   ]
  },
  {
   "cell_type": "code",
   "execution_count": null,
   "metadata": {},
   "outputs": [],
   "source": [
    "product_type_sold_count = cleaned_data.groupby('product_type')['quantity'].sum().sort_values(ascending=False)\n",
    "# top_sold_product_types = product_type_sold_count[product_type_sold_count > product_type_sold_count.quantile(0.9)]\n",
    "top_sold_product_types = product_type_sold_count.iloc[list(range(20))]\n",
    "top_sold_product_types"
   ]
  },
  {
   "cell_type": "code",
   "execution_count": null,
   "metadata": {},
   "outputs": [],
   "source": [
    "top_selling_product_filtered_data = cleaned_data.loc[cleaned_data['product_type'].isin(top_sold_product_types.index), :]\n",
    "top_selling_product_filtered_data"
   ]
  },
  {
   "cell_type": "code",
   "execution_count": null,
   "metadata": {},
   "outputs": [],
   "source": [
    "pivotted_product = top_selling_product_filtered_data.pivot_table(values='quantity', index=['customer_id'], columns=['product_type'])\n",
    "correlation_product = pivotted_product.fillna(0).corr().round(2)\n",
    "html = correlation_product.style.format(precision=2).background_gradient(cmap='flare').text_gradient(cmap='flare')\n",
    "html.to_html('../../images/item_correlation/item_correlation_table.html')\n"
   ]
  },
  {
   "cell_type": "code",
   "execution_count": null,
   "metadata": {},
   "outputs": [],
   "source": [
    "correlation_product.style.format(precision=2).background_gradient(cmap='flare')"
   ]
  },
  {
   "cell_type": "code",
   "execution_count": null,
   "metadata": {},
   "outputs": [],
   "source": [
    "bran_product_type_sold_count = cleaned_data.groupby(['brand', 'product_type'])['quantity'].sum().sort_values(ascending=False)\n",
    "top_sold_brand_product_types = bran_product_type_sold_count[bran_product_type_sold_count > bran_product_type_sold_count.quantile(0.9)]\n",
    "top_sold_brand_product_types.sum()"
   ]
  },
  {
   "cell_type": "code",
   "execution_count": null,
   "metadata": {},
   "outputs": [],
   "source": [
    "cleaned_data['quantity'].sum() - top_sold_brand_product_types.sum()"
   ]
  },
  {
   "cell_type": "code",
   "execution_count": null,
   "metadata": {},
   "outputs": [],
   "source": [
    "brand_product_index_set = cleaned_data.set_index(['brand', 'product_type'])\n",
    "top_selling_brand_product_filtered_data = brand_product_index_set.loc[top_sold_brand_product_types.index, :].reset_index(level=[0, 1])"
   ]
  },
  {
   "cell_type": "code",
   "execution_count": null,
   "metadata": {},
   "outputs": [],
   "source": [
    "pivotted_brand_product = top_selling_brand_product_filtered_data.pivot_table(values='quantity', index=['customer_id'], columns=['brand', 'product_type'])\n",
    "pivotted_brand_product.fillna(0).corr().sort_values(by=('AOC', 'Gaming Monitor'), ascending=False)"
   ]
  },
  {
   "cell_type": "code",
   "execution_count": null,
   "metadata": {},
   "outputs": [],
   "source": [
    "pivotted_brand_product.fillna(0).corr()[('AOC', 'Gaming Monitor')]"
   ]
  },
  {
   "attachments": {},
   "cell_type": "markdown",
   "metadata": {},
   "source": [
    "# Same with Sales Order Number"
   ]
  },
  {
   "cell_type": "code",
   "execution_count": null,
   "metadata": {},
   "outputs": [],
   "source": [
    "pivotted_product = top_selling_product_filtered_data.pivot_table(values='quantity', index=['sales_order_number'], columns=['product_type'])\n",
    "correlation_product = pivotted_product.fillna(0).corr().round(2)\n",
    "html = correlation_product.style.format(precision=2).background_gradient(cmap='flare').text_gradient(cmap='flare')\n",
    "html.to_html('../../images/item_correlation/item_correlation_table_sales_order_number.html')"
   ]
  },
  {
   "cell_type": "code",
   "execution_count": null,
   "metadata": {},
   "outputs": [],
   "source": [
    "html"
   ]
  }
 ],
 "metadata": {
  "kernelspec": {
   "display_name": "venv",
   "language": "python",
   "name": "python3"
  },
  "language_info": {
   "codemirror_mode": {
    "name": "ipython",
    "version": 3
   },
   "file_extension": ".py",
   "mimetype": "text/x-python",
   "name": "python",
   "nbconvert_exporter": "python",
   "pygments_lexer": "ipython3",
   "version": "3.10.0"
  },
  "orig_nbformat": 4
 },
 "nbformat": 4,
 "nbformat_minor": 2
}
