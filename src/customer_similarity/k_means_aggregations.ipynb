{
 "cells": [
  {
   "cell_type": "code",
   "execution_count": null,
   "metadata": {},
   "outputs": [],
   "source": [
    "import sys\n",
    "sys.path.append('../..')\n",
    "import pandas as pd\n",
    "import numpy as np\n",
    "import src.cleaning as clean\n",
    "from sklearn.cluster import KMeans\n",
    "from sklearn.preprocessing import MinMaxScaler\n",
    "from sklearn.metrics import silhouette_score\n",
    "import matplotlib.pyplot as plt\n",
    "import seaborn as sns"
   ]
  },
  {
   "cell_type": "code",
   "execution_count": null,
   "metadata": {},
   "outputs": [],
   "source": [
    "sales_data = pd.read_csv('../../data/anon_data.csv')\n",
    "cleaned_data = clean.clean_data(sales_data)\n"
   ]
  },
  {
   "cell_type": "code",
   "execution_count": null,
   "metadata": {},
   "outputs": [],
   "source": [
    "# Look at customers based on average profit on an order, average quantity bought in an order, and number of orders. \n",
    "# Ignore sales_team_name as this is already a grouping that will be corrrelated to the values above, and KMeans does not handle categorical variables easily due to inability to express distance/ difference in strings with a simple number.\n",
    "# Keeping in returns and refunds as a customer that orders a lot but returns most of it is not the same as a customer that just orders a lot.\n"
   ]
  },
  {
   "cell_type": "code",
   "execution_count": null,
   "metadata": {},
   "outputs": [],
   "source": [
    "grouped_by_customer = cleaned_data.groupby('customer_id')\n",
    "summed_values = grouped_by_customer[['profit', 'quantity', 'revenue']].sum()\n",
    "summed_values.columns = ['profit_by_customer', 'quantity_by_customer', 'revenue_by_customer']\n"
   ]
  },
  {
   "cell_type": "code",
   "execution_count": null,
   "metadata": {},
   "outputs": [],
   "source": [
    "# For number of orders, look at only the orders and not the returns as if a return cancels out an order, that order has a profit of 0 and is only one order not two orders as would be counted by sales_order_number\n",
    "# Could remove the order entirely but is difficult as one return can cover multiple orders.\n",
    "only_sales_not_returns = cleaned_data.loc[cleaned_data['quantity']> 0, :]\n",
    "only_sales_not_returns_grouped = only_sales_not_returns.groupby('customer_id')\n",
    "orders_by_customer = only_sales_not_returns_grouped['sales_order_number'].unique().apply(len)\n",
    "shipments_by_customer = only_sales_not_returns_grouped['ship_date'].unique().apply(len)"
   ]
  },
  {
   "cell_type": "code",
   "execution_count": null,
   "metadata": {},
   "outputs": [],
   "source": [
    "# Add two extra columns to the dataframe\n",
    "df_with_orders_and_shipments = summed_values.assign(orders_by_customer=orders_by_customer, shipments_by_customer=shipments_by_customer)"
   ]
  },
  {
   "cell_type": "code",
   "execution_count": null,
   "metadata": {},
   "outputs": [],
   "source": [
    "# Calculate profit per order for each customer\n",
    "# These metrics were not used in the end\n",
    "df_values_per_order = df_with_orders_and_shipments.assign(profit_per_order_by_customer=df_with_orders_and_shipments['profit_by_customer']/df_with_orders_and_shipments['orders_by_customer'],\n",
    "                                                    quantity_per_order_by_customer=df_with_orders_and_shipments['quantity_by_customer']/df_with_orders_and_shipments['orders_by_customer'])\n",
    "df_values_per_order\n"
   ]
  },
  {
   "cell_type": "code",
   "execution_count": null,
   "metadata": {},
   "outputs": [],
   "source": [
    "# Specify feature columns to use\n",
    "feature_columns = ['profit_by_customer', 'quantity_by_customer']"
   ]
  },
  {
   "cell_type": "code",
   "execution_count": null,
   "metadata": {},
   "outputs": [],
   "source": [
    "# Drop NaNs\n",
    "feature_dataframe = df_values_per_order[feature_columns]\n",
    "feature_dataframe = feature_dataframe.dropna(axis=0, how='any')\n",
    "df_values_per_order.shape[0] - feature_dataframe.shape[0]"
   ]
  },
  {
   "attachments": {},
   "cell_type": "markdown",
   "metadata": {},
   "source": [
    "### KMeans Clustering is sensitive to outlier so outliers need to be remove"
   ]
  },
  {
   "cell_type": "code",
   "execution_count": null,
   "metadata": {},
   "outputs": [],
   "source": [
    "upper_quartiles = feature_dataframe.quantile(0.75)\n",
    "lower_quartiles = feature_dataframe.quantile(0.25)\n",
    "iqr = upper_quartiles - lower_quartiles\n",
    "iqr"
   ]
  },
  {
   "cell_type": "code",
   "execution_count": null,
   "metadata": {},
   "outputs": [],
   "source": [
    "upper_bounds = (upper_quartiles + 1.5*iqr)\n",
    "lower_bounds = (lower_quartiles - 1.5*iqr)\n",
    "upper_bounds"
   ]
  },
  {
   "cell_type": "code",
   "execution_count": null,
   "metadata": {},
   "outputs": [],
   "source": [
    "outliers = ((feature_dataframe > upper_bounds) | (feature_dataframe < lower_bounds)).any(axis=1)\n",
    "outliers.sum()"
   ]
  },
  {
   "cell_type": "code",
   "execution_count": null,
   "metadata": {},
   "outputs": [],
   "source": [
    "# That's a lot of outliers, what if we just removed top and bottom 5% as these are more likely to be fake orders\n",
    "quantile_outliers = ((feature_dataframe > feature_dataframe.quantile(0.95)) | (feature_dataframe < feature_dataframe.quantile(0.05))).any(axis=1)\n",
    "quantile_outliers.sum()\n",
    "# This also removed negatives, using outlier only removes a few negatives"
   ]
  },
  {
   "cell_type": "code",
   "execution_count": null,
   "metadata": {},
   "outputs": [],
   "source": [
    "removed_outliers = feature_dataframe[~quantile_outliers]\n",
    "removed_outliers"
   ]
  },
  {
   "attachments": {},
   "cell_type": "markdown",
   "metadata": {},
   "source": [
    "### Notes\n",
    "Given this large number of outliers, consider k-medoids.\n",
    "Using KMeans but removed upper and lower 5% of data. Having explored the data, these are likely to be outlier cause by returns or low revenue and negative profit resulting in questionable data points. "
   ]
  },
  {
   "cell_type": "code",
   "execution_count": null,
   "metadata": {},
   "outputs": [],
   "source": [
    "sns.scatterplot(removed_outliers, x=feature_columns[0], y=feature_columns[1])"
   ]
  },
  {
   "attachments": {},
   "cell_type": "markdown",
   "metadata": {},
   "source": [
    "### Notes\n",
    "Does appear to be any clear cut clusters, one main cluster around (50, 25) but everything else is sparse"
   ]
  },
  {
   "cell_type": "code",
   "execution_count": null,
   "metadata": {},
   "outputs": [],
   "source": [
    "scaler = MinMaxScaler()\n",
    "scaled_data = scaler.fit_transform(removed_outliers)\n",
    "scaled_data = pd.DataFrame(scaled_data, columns=feature_columns)"
   ]
  },
  {
   "cell_type": "code",
   "execution_count": null,
   "metadata": {},
   "outputs": [],
   "source": [
    "# Use elbow method to find optimal k\n",
    "results = []\n",
    "silhouettes = []\n",
    "k_range = list(range(2, 40))\n",
    "for k in k_range:\n",
    "    k_mean_clusterer = KMeans(n_clusters=k, random_state=26)\n",
    "    k_mean_clusterer.fit(scaled_data)\n",
    "    silhouettes.append(silhouette_score(scaled_data, k_mean_clusterer.labels_))\n",
    "    results.append(k_mean_clusterer.inertia_)"
   ]
  },
  {
   "cell_type": "code",
   "execution_count": null,
   "metadata": {},
   "outputs": [],
   "source": [
    "plt.plot(k_range, results)\n",
    "plt.grid(True)"
   ]
  },
  {
   "cell_type": "code",
   "execution_count": null,
   "metadata": {},
   "outputs": [],
   "source": [
    "plt.plot(k_range, silhouettes)\n",
    "plt.grid(True)"
   ]
  },
  {
   "attachments": {},
   "cell_type": "markdown",
   "metadata": {},
   "source": [
    "# Final Clustering"
   ]
  },
  {
   "cell_type": "code",
   "execution_count": null,
   "metadata": {},
   "outputs": [],
   "source": [
    "# Choose a k of 5 given the results and intial cluster plot"
   ]
  },
  {
   "cell_type": "code",
   "execution_count": null,
   "metadata": {},
   "outputs": [],
   "source": [
    "k_mean_clusterer = KMeans(n_clusters=5, random_state=26, n_init=100)\n",
    "k_mean_clusterer.fit_predict(scaled_data)\n",
    "results_data = removed_outliers.assign(cluster=k_mean_clusterer.labels_)"
   ]
  },
  {
   "cell_type": "code",
   "execution_count": null,
   "metadata": {},
   "outputs": [],
   "source": [
    "plot = sns.scatterplot(data=results_data, x=feature_columns[0], y=feature_columns[1], hue='cluster')\n",
    "plot.legend(loc='upper left', bbox_to_anchor=(1, 1))\n"
   ]
  },
  {
   "cell_type": "code",
   "execution_count": null,
   "metadata": {},
   "outputs": [],
   "source": [
    "# For curiosity:\n",
    "# Set feature_columns=['profit_per_order_by_customer', 'quantity_per_order_by_customer', 'orders_by_customer'] and run all above to use this plot"
   ]
  },
  {
   "cell_type": "code",
   "execution_count": null,
   "metadata": {},
   "outputs": [],
   "source": [
    "import matplotlib.colors\n",
    "sns.set_style (\"darkgrid\")\n",
    "plot_mean = 3\n",
    "min_num = 30\n",
    "x = results_data['quantity_per_order_by_customer']\n",
    "y = results_data['profit_per_order_by_customer']\n",
    "z = results_data['orders_by_customer']\n",
    "colours = results_data['cluster']\n",
    "colors = ['red','green','blue','purple', 'black', 'cornflowerblue', 'lime', 'darkorange', 'sienna', 'teal', 'aqua', 'deeppink', 'gold']\n",
    "figure = plt.figure(figsize = (10, 10))\n",
    "seaborn_plot = figure.add_subplot(111, projection='3d')\n",
    "\n",
    "seaborn_plot.scatter(x, y, z, c=colours, cmap=matplotlib.colors.ListedColormap(colors))\n",
    "seaborn_plot.set_xlabel ('quantity_per_order')\n",
    "seaborn_plot.set_ylabel ('profit_per_order')\n",
    "seaborn_plot.set_zlabel ('number_of_orders')\n",
    "plt.show ()"
   ]
  },
  {
   "cell_type": "code",
   "execution_count": null,
   "metadata": {},
   "outputs": [],
   "source": []
  }
 ],
 "metadata": {
  "kernelspec": {
   "display_name": "venv",
   "language": "python",
   "name": "python3"
  },
  "language_info": {
   "codemirror_mode": {
    "name": "ipython",
    "version": 3
   },
   "file_extension": ".py",
   "mimetype": "text/x-python",
   "name": "python",
   "nbconvert_exporter": "python",
   "pygments_lexer": "ipython3",
   "version": "3.10.0"
  },
  "orig_nbformat": 4
 },
 "nbformat": 4,
 "nbformat_minor": 2
}
